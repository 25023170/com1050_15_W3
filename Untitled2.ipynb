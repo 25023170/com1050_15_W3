{
 "cells": [
  {
   "cell_type": "code",
   "execution_count": 1,
   "id": "7a3ac5f0-6325-4d01-b17b-b4183224d1a6",
   "metadata": {},
   "outputs": [
    {
     "name": "stdout",
     "output_type": "stream",
     "text": [
      "trước khi đổi:a= 10 b= 7\n",
      "sau khi đổi : a= 7 b= 10\n"
     ]
    }
   ],
   "source": [
    "#BÀI 1\n",
    "a=10\n",
    "b=7\n",
    "print('trước khi đổi:a=',a,'b=',b)\n",
    "a=a^b\n",
    "b=a^b\n",
    "a=a^b\n",
    "print('sau khi đổi : a=',a,'b=',b)\n"
   ]
  },
  {
   "cell_type": "code",
   "execution_count": 7,
   "id": "de245111-9825-44a0-9b0d-8e0e6a9eef1e",
   "metadata": {},
   "outputs": [
    {
     "name": "stdin",
     "output_type": "stream",
     "text": [
      "nhap so a= 11\n"
     ]
    },
    {
     "name": "stdout",
     "output_type": "stream",
     "text": [
      "a khong phai luy thua cua 2\n"
     ]
    }
   ],
   "source": [
    "#bai 2\n",
    "a=int(input('nhap so a='))\n",
    "if a & a-1 ==0 :\n",
    "    print('a la luy thua cua 2')\n",
    "else:\n",
    "    print('a khong phai luy thua cua 2')\n",
    "      "
   ]
  },
  {
   "cell_type": "code",
   "execution_count": 4,
   "id": "3b7c7667-2f0a-4992-8bbd-23a39ceb2207",
   "metadata": {
    "scrolled": true
   },
   "outputs": [
    {
     "name": "stdin",
     "output_type": "stream",
     "text": [
      "nhap so n: 5\n",
      "nhap so m: 11\n"
     ]
    },
    {
     "name": "stdout",
     "output_type": "stream",
     "text": [
      "2\n"
     ]
    }
   ],
   "source": [
    "#bài 3\n",
    "import math \n",
    "n=int(input('nhap so n:'))\n",
    "m=int(input('nhap so m:'))\n",
    "print(math.floor(m/n))"
   ]
  },
  {
   "cell_type": "code",
   "execution_count": 7,
   "id": "a69d76f0-5be2-4bdd-ac30-95a762569642",
   "metadata": {},
   "outputs": [
    {
     "name": "stdin",
     "output_type": "stream",
     "text": [
      "nhap so m: 5\n",
      "nhap so n : 11\n"
     ]
    },
    {
     "name": "stdout",
     "output_type": "stream",
     "text": [
      "1\n"
     ]
    }
   ],
   "source": [
    "#bai4 \n",
    "import math\n",
    "m=int(input('nhap so m:'))\n",
    "n=int(input('nhap so n :'))\n",
    "print(math.ceil(m/n))"
   ]
  },
  {
   "cell_type": "code",
   "execution_count": 8,
   "id": "19dee7b3-27ac-41cb-8afa-af783d79deb8",
   "metadata": {},
   "outputs": [
    {
     "name": "stdin",
     "output_type": "stream",
     "text": [
      "nhap so x: 7\n"
     ]
    },
    {
     "name": "stdout",
     "output_type": "stream",
     "text": [
      "odd\n"
     ]
    }
   ],
   "source": [
    "#bai5 \n",
    "x=int(input('nhap so x:'))\n",
    "if x%2==0:\n",
    "    print('even')\n",
    "else:\n",
    "    print('odd')"
   ]
  },
  {
   "cell_type": "code",
   "execution_count": 10,
   "id": "e987904b-d333-4b8e-8fa3-8f0d6ab6e638",
   "metadata": {},
   "outputs": [
    {
     "name": "stdin",
     "output_type": "stream",
     "text": [
      "nhap so x : 2\n",
      "nhap so y: -9\n"
     ]
    },
    {
     "name": "stdout",
     "output_type": "stream",
     "text": [
      "no\n"
     ]
    }
   ],
   "source": [
    "#bai6\n",
    "x=int(input('nhap so x :'))\n",
    "y=int(input('nhap so y:'))\n",
    "if x<0 and y<0 :  \n",
    "      print('yes')\n",
    "else:\n",
    "      print('no')"
   ]
  },
  {
   "cell_type": "code",
   "execution_count": 8,
   "id": "2f36de11-0dc8-4579-94cb-a898a6a77512",
   "metadata": {},
   "outputs": [
    {
     "name": "stdin",
     "output_type": "stream",
     "text": [
      " bach\n",
      " dai\n"
     ]
    },
    {
     "name": "stdout",
     "output_type": "stream",
     "text": [
      "true\n"
     ]
    }
   ],
   "source": [
    "#bai7\n",
    "a=input()\n",
    "b=input()\n",
    "if len(a)>len(b):\n",
    "    print('true')\n",
    "else :\n",
    "    print('false')\n"
   ]
  },
  {
   "cell_type": "code",
   "execution_count": 6,
   "id": "651efe7d-4532-4471-abb7-669cf157c308",
   "metadata": {},
   "outputs": [
    {
     "name": "stdin",
     "output_type": "stream",
     "text": [
      "nhap so a 2\n",
      "nhap so b 3\n",
      "nhap so c 4\n"
     ]
    },
    {
     "name": "stdout",
     "output_type": "stream",
     "text": [
      "a,b,c là do dai cua 1 tam giac\n"
     ]
    }
   ],
   "source": [
    "#bai8\n",
    "a=int(input('nhap so a'))\n",
    "b=int(input('nhap so b'))\n",
    "c=int(input('nhap so c'))\n",
    "if a>0 and b>0 and c>0 and a+b>c and b+c>a and a+c>b:\n",
    "    print('a,b,c là do dai cua 1 tam giac')\n",
    "else:\n",
    "    print('a,b,ck phai la do dai cua tam giac') "
   ]
  },
  {
   "cell_type": "code",
   "execution_count": 9,
   "id": "2105eaf9-71b3-40d6-8955-8ef6c93df758",
   "metadata": {},
   "outputs": [
    {
     "name": "stdin",
     "output_type": "stream",
     "text": [
      "nhap so a 1\n",
      "nhap so b 4\n",
      "nhap so c 426\n",
      "nhap so d 247264\n"
     ]
    },
    {
     "name": "stdout",
     "output_type": "stream",
     "text": [
      "247264\n"
     ]
    }
   ],
   "source": [
    "#bai9\n",
    "a=int(input('nhap so a'))\n",
    "b=int(input('nhap so b'))\n",
    "c=int(input('nhap so c'))\n",
    "d=int(input('nhap so d'))\n",
    "print(max(a,b,c,d))"
   ]
  },
  {
   "cell_type": "code",
   "execution_count": 14,
   "id": "6bc30e2b-5e07-4493-9e68-0b733bd652d9",
   "metadata": {},
   "outputs": [
    {
     "name": "stdin",
     "output_type": "stream",
     "text": [
      "nhap so a 1\n",
      "nhap so b 2\n",
      "nhap so c 2\n"
     ]
    },
    {
     "name": "stdout",
     "output_type": "stream",
     "text": [
      "a,b,c tạo thành tam giác cân\n"
     ]
    }
   ],
   "source": [
    "#bai10\n",
    "a=int(input('nhap so a'))\n",
    "b=int(input('nhap so b'))\n",
    "c=int(input('nhap so c'))\n",
    "if a>0 and b>0 and c>0 and a+b>c and b+c>a and a+c>b:\n",
    "   if a!=b and b!=c and a!=c:\n",
    "        print('a,b,c tạo thành tam giác thường')\n",
    "   elif a==b!=c or a==c!=b or b==c!=a :\n",
    "        print('a,b,c tạo thành tam giác cân')\n",
    "   elif a==c and c==b and a==b:\n",
    "        print('a,b,c tạo thành tam giác đều')\n",
    "else:\n",
    "    print('a,b,c khong phai la do dai cua tam giac') "
   ]
  },
  {
   "cell_type": "code",
   "execution_count": 16,
   "id": "898119a2-5dce-40fe-b2c8-47f968cfee0a",
   "metadata": {
    "scrolled": true
   },
   "outputs": [
    {
     "name": "stdin",
     "output_type": "stream",
     "text": [
      "day la nam: 2020\n"
     ]
    },
    {
     "name": "stdout",
     "output_type": "stream",
     "text": [
      "yes\n"
     ]
    }
   ],
   "source": [
    "#bai11\n",
    "a=int(input('day la nam:'))\n",
    "if a%4==0 and a%100!=0 or a%400==0:\n",
    "    print('yes')\n",
    "else:\n",
    "    print('no')"
   ]
  },
  {
   "cell_type": "code",
   "execution_count": 18,
   "id": "235de1dc-4ad2-47e1-a118-dde61502dc28",
   "metadata": {},
   "outputs": [
    {
     "name": "stdin",
     "output_type": "stream",
     "text": [
      "nhap so a 3\n",
      "nhap so b 0\n"
     ]
    },
    {
     "name": "stdout",
     "output_type": "stream",
     "text": [
      "phương trình có nghiệm duy nhất là x= -0.0\n"
     ]
    }
   ],
   "source": [
    "#bai12\n",
    "a=float(input('nhap so a'))\n",
    "b=float(input('nhap so b'))\n",
    "if a==0:\n",
    "   if b==0:\n",
    "       print('phương trình có vô số nghiệm')\n",
    "   else:\n",
    "       print('phương trình vô nghiệm')\n",
    "else:\n",
    "    x=-b/a\n",
    "    print('phương trình có nghiệm duy nhất là x=',x)"
   ]
  },
  {
   "cell_type": "code",
   "execution_count": 24,
   "id": "92732a55-3636-4273-920f-b9545d66902b",
   "metadata": {},
   "outputs": [
    {
     "name": "stdin",
     "output_type": "stream",
     "text": [
      "diem trung binh cua hoc sinh: 9.8\n"
     ]
    },
    {
     "name": "stdout",
     "output_type": "stream",
     "text": [
      "gioi\n"
     ]
    }
   ],
   "source": [
    "#bai13\n",
    "a=float(input('diem trung binh cua hoc sinh:'))\n",
    "if a<10 and a>0:\n",
    "   if a>=8.0:\n",
    "      print('gioi')\n",
    "   elif a>=6.5:\n",
    "        print('kha')\n",
    "   elif a>=5.0:\n",
    "        print('trung binh')\n",
    "   elif a<5.0:\n",
    "        print('yeu')\n",
    "else:\n",
    "    print('diem cua hoc sinh bi sai')\n"
   ]
  },
  {
   "cell_type": "code",
   "execution_count": 31,
   "id": "5fa05bfa-9b0e-4624-b759-735e71ded38f",
   "metadata": {},
   "outputs": [
    {
     "name": "stdin",
     "output_type": "stream",
     "text": [
      " 3.14\n"
     ]
    },
    {
     "name": "stdout",
     "output_type": "stream",
     "text": [
      "4 3 3\n"
     ]
    }
   ],
   "source": [
    "#bai14\n",
    "x = float(input())\n",
    "i = int(x)\n",
    "floor_val = i if x >= 0 or x == i else i - 1\n",
    "ceil_val = i if x <= 0 or x == i else i + 1\n",
    "round_val = i + (1 if x - i >= 0.5 else 0) if x >= 0 else i - (1 if i - x >= 0.5 else 0)\n",
    "\n",
    "print(ceil_val, floor_val, round_val)\n",
    "\n",
    "    \n"
   ]
  },
  {
   "cell_type": "code",
   "execution_count": null,
   "id": "63b005f0-0eb4-4966-95be-16a69140b932",
   "metadata": {},
   "outputs": [],
   "source": [
    "#bai15\n",
    "def kiem_tra(a, b, c, d):\n",
    "    if a == 0:\n",
    "        return b == 0 and c == 0 and d == 0\n",
    "    if b % a != 0:\n",
    "        return False\n",
    "    r = b // a\n",
    "    return b * r == c and c * r == d\n",
    "a = int(input())\n",
    "b = int(input())\n",
    "c = int(input())\n",
    "d = int(input())\n",
    "\n",
    "print(kiem_tra(a, b, c, d))\n",
    "\n",
    "\n"
   ]
  },
  {
   "cell_type": "code",
   "execution_count": null,
   "id": "d38fa5f4-4cc1-42a1-827a-e7ce684514e1",
   "metadata": {},
   "outputs": [],
   "source": []
  }
 ],
 "metadata": {
  "kernelspec": {
   "display_name": "Python 3 (ipykernel)",
   "language": "python",
   "name": "python3"
  },
  "language_info": {
   "codemirror_mode": {
    "name": "ipython",
    "version": 3
   },
   "file_extension": ".py",
   "mimetype": "text/x-python",
   "name": "python",
   "nbconvert_exporter": "python",
   "pygments_lexer": "ipython3",
   "version": "3.13.5"
  }
 },
 "nbformat": 4,
 "nbformat_minor": 5
}
