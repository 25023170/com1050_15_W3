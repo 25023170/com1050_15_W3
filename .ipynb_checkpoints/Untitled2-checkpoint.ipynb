{
 "cells": [
  {
   "cell_type": "code",
   "execution_count": 4,
   "id": "3b7c7667-2f0a-4992-8bbd-23a39ceb2207",
   "metadata": {
    "scrolled": true
   },
   "outputs": [
    {
     "name": "stdin",
     "output_type": "stream",
     "text": [
      "nhap so n: 5\n",
      "nhap so m: 11\n"
     ]
    },
    {
     "name": "stdout",
     "output_type": "stream",
     "text": [
      "2\n"
     ]
    }
   ],
   "source": [
    "#bài 3\n",
    "import math \n",
    "n=int(input('nhap so n:'))\n",
    "m=int(input('nhap so m:'))\n",
    "print(math.floor(m/n))"
   ]
  },
  {
   "cell_type": "code",
   "execution_count": null,
   "id": "7a3ac5f0-6325-4d01-b17b-b4183224d1a6",
   "metadata": {},
   "outputs": [],
   "source": []
  },
  {
   "cell_type": "code",
   "execution_count": 7,
   "id": "a69d76f0-5be2-4bdd-ac30-95a762569642",
   "metadata": {},
   "outputs": [
    {
     "name": "stdin",
     "output_type": "stream",
     "text": [
      "nhap so m: 5\n",
      "nhap so n : 11\n"
     ]
    },
    {
     "name": "stdout",
     "output_type": "stream",
     "text": [
      "1\n"
     ]
    }
   ],
   "source": [
    "#bai4 \n",
    "import math\n",
    "m=int(input('nhap so m:'))\n",
    "n=int(input('nhap so n :'))\n",
    "print(math.ceil(m/n))"
   ]
  },
  {
   "cell_type": "code",
   "execution_count": 8,
   "id": "19dee7b3-27ac-41cb-8afa-af783d79deb8",
   "metadata": {},
   "outputs": [
    {
     "name": "stdin",
     "output_type": "stream",
     "text": [
      "nhap so x: 7\n"
     ]
    },
    {
     "name": "stdout",
     "output_type": "stream",
     "text": [
      "odd\n"
     ]
    }
   ],
   "source": [
    "#bai5 \n",
    "x=int(input('nhap so x:'))\n",
    "if x%2==0:\n",
    "    print('even')\n",
    "else:\n",
    "    print('odd')"
   ]
  },
  {
   "cell_type": "code",
   "execution_count": 10,
   "id": "e987904b-d333-4b8e-8fa3-8f0d6ab6e638",
   "metadata": {},
   "outputs": [
    {
     "name": "stdin",
     "output_type": "stream",
     "text": [
      "nhap so x : 2\n",
      "nhap so y: -9\n"
     ]
    },
    {
     "name": "stdout",
     "output_type": "stream",
     "text": [
      "no\n"
     ]
    }
   ],
   "source": [
    "#bai6\n",
    "x=int(input('nhap so x :'))\n",
    "y=int(input('nhap so y:'))\n",
    "if x<0 and y<0 :  \n",
    "      print('yes')\n",
    "else:\n",
    "      print('no')"
   ]
  },
  {
   "cell_type": "code",
   "execution_count": 13,
   "id": "651efe7d-4532-4471-abb7-669cf157c308",
   "metadata": {},
   "outputs": [
    {
     "ename": "SyntaxError",
     "evalue": "invalid syntax (2639265249.py, line 6)",
     "output_type": "error",
     "traceback": [
      "\u001b[1;36m  Cell \u001b[1;32mIn[13], line 6\u001b[1;36m\u001b[0m\n\u001b[1;33m    elif a+b>c and a+c>b and c+b>a :\u001b[0m\n\u001b[1;37m    ^\u001b[0m\n\u001b[1;31mSyntaxError\u001b[0m\u001b[1;31m:\u001b[0m invalid syntax\n"
     ]
    }
   ],
   "source": [
    "#bai7\n",
    "a=int(input('nhap so a'))\n",
    "b=int(input('nhap so b'))\n",
    "c=int(input('nhap so c'))\n",
    "if a>0 and b>0 and c>0 :\n",
    "   elif a+b>c and a+c>b and c+b>a :\n",
    "        print('a,b,c la do dai cua tam giac')\n",
    "else:\n",
    "    print('a,b,ck phai la do dai cua tam giac') "
   ]
  },
  {
   "cell_type": "code",
   "execution_count": null,
   "id": "2105eaf9-71b3-40d6-8955-8ef6c93df758",
   "metadata": {},
   "outputs": [],
   "source": []
  }
 ],
 "metadata": {
  "kernelspec": {
   "display_name": "Python 3 (ipykernel)",
   "language": "python",
   "name": "python3"
  },
  "language_info": {
   "codemirror_mode": {
    "name": "ipython",
    "version": 3
   },
   "file_extension": ".py",
   "mimetype": "text/x-python",
   "name": "python",
   "nbconvert_exporter": "python",
   "pygments_lexer": "ipython3",
   "version": "3.13.5"
  }
 },
 "nbformat": 4,
 "nbformat_minor": 5
}
